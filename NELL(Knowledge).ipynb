{
  "nbformat": 4,
  "nbformat_minor": 0,
  "metadata": {
    "colab": {
      "provenance": []
    },
    "kernelspec": {
      "name": "python3",
      "display_name": "Python 3"
    },
    "language_info": {
      "name": "python"
    }
  },
  "cells": [
    {
      "cell_type": "code",
      "execution_count": 1,
      "metadata": {
        "id": "a1ohMB8uJc-h",
        "colab": {
          "base_uri": "https://localhost:8080/"
        },
        "outputId": "304e1471-353b-4e0c-abdc-956a02ce9a82"
      },
      "outputs": [
        {
          "output_type": "stream",
          "name": "stdout",
          "text": [
            "Collecting pyspark\n",
            "  Downloading pyspark-3.4.1.tar.gz (310.8 MB)\n",
            "\u001b[2K     \u001b[90m━━━━━━━━━━━━━━━━━━━━━━━━━━━━━━━━━━━━━━━\u001b[0m \u001b[32m310.8/310.8 MB\u001b[0m \u001b[31m4.9 MB/s\u001b[0m eta \u001b[36m0:00:00\u001b[0m\n",
            "\u001b[?25h  Preparing metadata (setup.py) ... \u001b[?25l\u001b[?25hdone\n",
            "Requirement already satisfied: py4j==0.10.9.7 in /usr/local/lib/python3.10/dist-packages (from pyspark) (0.10.9.7)\n",
            "Building wheels for collected packages: pyspark\n",
            "  Building wheel for pyspark (setup.py) ... \u001b[?25l\u001b[?25hdone\n",
            "  Created wheel for pyspark: filename=pyspark-3.4.1-py2.py3-none-any.whl size=311285387 sha256=6d1eaebd586118c15445755d4853c53ed791df17f5f7cca22306d3762baef788\n",
            "  Stored in directory: /root/.cache/pip/wheels/0d/77/a3/ff2f74cc9ab41f8f594dabf0579c2a7c6de920d584206e0834\n",
            "Successfully built pyspark\n",
            "Installing collected packages: pyspark\n",
            "Successfully installed pyspark-3.4.1\n"
          ]
        }
      ],
      "source": [
        "!pip install pyspark"
      ]
    },
    {
      "cell_type": "code",
      "source": [
        "!wget http://rtw.ml.cmu.edu/resources/results/08m/NELL.08m.1115.esv.csv.gz"
      ],
      "metadata": {
        "colab": {
          "base_uri": "https://localhost:8080/"
        },
        "id": "D4tns4YaLZli",
        "outputId": "f5f78aea-ec08-41bf-a53e-155db6a34c63"
      },
      "execution_count": 2,
      "outputs": [
        {
          "output_type": "stream",
          "name": "stdout",
          "text": [
            "--2023-09-24 17:14:05--  http://rtw.ml.cmu.edu/resources/results/08m/NELL.08m.1115.esv.csv.gz\n",
            "Resolving rtw.ml.cmu.edu (rtw.ml.cmu.edu)... 128.2.220.128\n",
            "Connecting to rtw.ml.cmu.edu (rtw.ml.cmu.edu)|128.2.220.128|:80... connected.\n",
            "HTTP request sent, awaiting response... 200 OK\n",
            "Length: 929107246 (886M) [application/x-gzip]\n",
            "Saving to: ‘NELL.08m.1115.esv.csv.gz’\n",
            "\n",
            "NELL.08m.1115.esv.c 100%[===================>] 886.07M  74.4MB/s    in 13s     \n",
            "\n",
            "2023-09-24 17:14:18 (69.3 MB/s) - ‘NELL.08m.1115.esv.csv.gz’ saved [929107246/929107246]\n",
            "\n"
          ]
        }
      ]
    },
    {
      "cell_type": "code",
      "source": [
        "!gunzip /content/NELL.08m.1115.esv.csv.gz"
      ],
      "metadata": {
        "id": "TLUkU9tcOBIq"
      },
      "execution_count": 4,
      "outputs": []
    },
    {
      "cell_type": "code",
      "source": [
        "from pyspark.sql import SparkSession"
      ],
      "metadata": {
        "id": "A7-qL-GTOAS_"
      },
      "execution_count": 5,
      "outputs": []
    },
    {
      "cell_type": "code",
      "source": [
        "spark = SparkSession.builder.appName(\"MyApp\").getOrCreate()"
      ],
      "metadata": {
        "id": "kFSLTkGnP-Gu"
      },
      "execution_count": 10,
      "outputs": []
    },
    {
      "cell_type": "code",
      "source": [
        "path = \"/content/NELL.08m.1115.esv.csv\""
      ],
      "metadata": {
        "id": "qqdhDttILxuK"
      },
      "execution_count": 8,
      "outputs": []
    },
    {
      "cell_type": "code",
      "source": [
        "df = spark.read \\\n",
        ".option(\"delimiter\", \"\\t\") \\\n",
        ".csv(path)"
      ],
      "metadata": {
        "id": "p7ul87PgOjR6"
      },
      "execution_count": 21,
      "outputs": []
    },
    {
      "cell_type": "code",
      "source": [
        "df.show(2)"
      ],
      "metadata": {
        "colab": {
          "base_uri": "https://localhost:8080/"
        },
        "id": "HnR4rRLkO7Fh",
        "outputId": "3c9d0766-b63c-462a-e1f1-a7510891e655"
      },
      "execution_count": 26,
      "outputs": [
        {
          "output_type": "stream",
          "name": "stdout",
          "text": [
            "+--------------------+---------------+--------------------+--------------------+------------------+--------------------+--------------------+--------------------+--------------------+--------------------+--------------------+--------------------+--------------------+\n",
            "|                 _c0|            _c1|                 _c2|                 _c3|               _c4|                 _c5|                 _c6|                 _c7|                 _c8|                 _c9|                _c10|                _c11|                _c12|\n",
            "+--------------------+---------------+--------------------+--------------------+------------------+--------------------+--------------------+--------------------+--------------------+--------------------+--------------------+--------------------+--------------------+\n",
            "|              Entity|       Relation|               Value|Iteration of Prom...|       Probability|              Source|Entity literalStr...|Value literalStrings|Best Entity liter...|Best Value litera...|Categories for En...|Categories for Value|    Candidate Source|\n",
            "|concept:biotechco...|generalizations|concept:biotechco...|                1103|0.9244426550775064|MBL-Iter%3A1103-2...|\"Aspect Medical S...|                null|Aspect Medical Sy...|                null| concept:biotechc...|     concept:company|%5BSEAL-Iter%3A21...|\n",
            "+--------------------+---------------+--------------------+--------------------+------------------+--------------------+--------------------+--------------------+--------------------+--------------------+--------------------+--------------------+--------------------+\n",
            "only showing top 2 rows\n",
            "\n"
          ]
        }
      ]
    },
    {
      "cell_type": "code",
      "source": [
        "# Get the relevant columns\n",
        "df = df[['_c0', '_c1', '_c2']]"
      ],
      "metadata": {
        "id": "JF4jirGBSE0b"
      },
      "execution_count": 29,
      "outputs": []
    },
    {
      "cell_type": "code",
      "source": [
        "# Take the first 50 rows\n",
        "df = df.limit(50)\n",
        "\n",
        "# Convert to Pandas DataFrame for easier processing\n",
        "pandas_df = df.toPandas()\n",
        "\n",
        "# Create an empty knowledge graph\n",
        "knowledge_graph = {}\n",
        "\n",
        "# Iterate through the data and populate the graph\n",
        "for _, row in pandas_df.iterrows():\n",
        "    entity1 = row['_c0']\n",
        "    relation = row['_c1']\n",
        "    entity2 = row['_c2']\n",
        "\n",
        "    if entity1 not in knowledge_graph:\n",
        "        knowledge_graph[entity1] = {}\n",
        "    if relation not in knowledge_graph[entity1]:\n",
        "        knowledge_graph[entity1][relation] = []\n",
        "\n",
        "    knowledge_graph[entity1][relation].append(entity2)\n",
        "\n",
        "# Print the resulting knowledge graph\n",
        "for entity, relations in knowledge_graph.items():\n",
        "    for relation, values in relations.items():\n",
        "        print(f\"{entity} --{relation}--> {values}\")"
      ],
      "metadata": {
        "colab": {
          "base_uri": "https://localhost:8080/"
        },
        "id": "zVcmJPHkW3_j",
        "outputId": "09fbbd87-aa3b-4616-a996-50419f2f853d"
      },
      "execution_count": 31,
      "outputs": [
        {
          "output_type": "stream",
          "name": "stdout",
          "text": [
            "Entity --Relation--> ['Value']\n",
            "concept:biotechcompany:aspect_medical_systems --generalizations--> ['concept:biotechcompany']\n",
            "concept:company:limited_brands --concept:companyceo--> ['concept:ceo:leslie_wexner']\n",
            "concept:company:limited_brands --generalizations--> ['concept:retailstore', 'concept:company']\n",
            "concept:biotechcompany:calavo_growers --generalizations--> ['concept:biotechcompany']\n",
            "concept:biotechcompany:playboy_enterprises_inc --generalizations--> ['concept:biotechcompany']\n",
            "concept:biotechcompany:b_c_s_b_bancorp_inc --generalizations--> ['concept:biotechcompany']\n",
            "concept:biotechcompany:boeing_integrated_defense_systems --generalizations--> ['concept:biotechcompany']\n",
            "concept:company:mahindra___mahindra_ltd_ --generalizations--> ['concept:company']\n",
            "concept:biotechcompany:marsam_pharmaceuticals --generalizations--> ['concept:biotechcompany']\n",
            "concept:biotechcompany:sifco_industries_inc --generalizations--> ['concept:biotechcompany']\n",
            "concept:biotechcompany:medecins_sans_frontieres --concept:organizationalsoknownas--> ['concept:nonprofitorganization:doctors_without_borders']\n",
            "concept:biotechcompany:acceleron --concept:haswikipediaurl--> ['http://en.wikipedia.org/wiki/Acceleron']\n",
            "concept:biotechcompany:acceleron --generalizations--> ['concept:biotechcompany']\n",
            "concept:biotechcompany:midwestone_financial_group_inc --generalizations--> ['concept:biotechcompany']\n",
            "concept:company:verifone --generalizations--> ['concept:company']\n",
            "concept:biotechcompany:anntaylor_stores_corp --generalizations--> ['concept:biotechcompany']\n",
            "concept:biotechcompany:magma_design_automation_inc --generalizations--> ['concept:biotechcompany']\n",
            "concept:biotechcompany:u_s__concrete --generalizations--> ['concept:biotechcompany']\n",
            "concept:biotechcompany:foster_s_group_limited --concept:haswikipediaurl--> [\"http://en.wikipedia.org/wiki/Foster's%20Group\"]\n",
            "concept:biotechcompany:abgenix --generalizations--> ['concept:biotechcompany']\n",
            "concept:biotechcompany:nupathe --generalizations--> ['concept:biotechcompany']\n",
            "concept:biotechcompany:united_retail_group_inc --concept:haswikipediaurl--> ['http://en.wikipedia.org/wiki/United%20Retail%20Group']\n",
            "concept:biotechcompany:united_retail_group_inc --generalizations--> ['concept:biotechcompany']\n",
            "concept:biotechcompany:universal_security_instruments_inc --generalizations--> ['concept:biotechcompany']\n",
            "concept:biotechcompany:eisai_inc --generalizations--> ['concept:biotechcompany']\n",
            "concept:biotechcompany:eresearch_technology --generalizations--> ['concept:biotechcompany']\n",
            "concept:biotechcompany:n3_6_teva_and_ratiopharm --generalizations--> ['concept:biotechcompany']\n",
            "concept:biotechcompany:american_church_mortgage_co --generalizations--> ['concept:biotechcompany']\n",
            "concept:biotechcompany:transduction_laboratories --generalizations--> ['concept:biotechcompany']\n",
            "concept:biotechcompany:china_finance_online_co__ltd --generalizations--> ['concept:biotechcompany']\n",
            "concept:biotechcompany:sherman_pharmaceuticals --generalizations--> ['concept:biotechcompany']\n",
            "concept:biotechcompany:coldwater_creek_inc --generalizations--> ['concept:biotechcompany', 'concept:retailstore']\n",
            "concept:biotechcompany:investors_title_co --generalizations--> ['concept:biotechcompany']\n",
            "concept:biotechcompany:orckit_communications_ltd --generalizations--> ['concept:biotechcompany']\n",
            "concept:biotechcompany:intuit --concept:acquired--> ['concept:company:mint']\n",
            "concept:biotechcompany:intuit --concept:agentcollaborateswithagent--> ['concept:ceo:scott_cook', 'concept:ceo:stephen_bennett', 'concept:ceo:brad_smith', 'concept:celebrity:bill_campbell']\n",
            "concept:biotechcompany:intuit --concept:agentcontrols--> ['concept:ceo:scott_cook', 'concept:ceo:stephen_bennett']\n",
            "concept:biotechcompany:intuit --concept:companyceo--> ['concept:ceo:stephen_bennett']\n",
            "concept:biotechcompany:intuit --concept:controlledbyagent--> ['concept:ceo:scott_cook']\n",
            "concept:biotechcompany:intuit --concept:mutualproxyfor--> ['concept:ceo:scott_cook', 'concept:ceo:stephen_bennett']\n",
            "concept:biotechcompany:intuit --concept:organizationhasagent--> ['concept:ceo:brad_smith', 'concept:ceo:stephen_bennett']\n"
          ]
        }
      ]
    },
    {
      "cell_type": "code",
      "source": [],
      "metadata": {
        "id": "lfr02m0wZpkT"
      },
      "execution_count": null,
      "outputs": []
    }
  ]
}